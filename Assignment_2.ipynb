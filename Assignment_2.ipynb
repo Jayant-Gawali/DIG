{
 "cells": [
  {
   "cell_type": "code",
   "execution_count": 1,
   "id": "fe9cc680",
   "metadata": {},
   "outputs": [],
   "source": [
    "import requests\n",
    "from bs4 import BeautifulSoup\n",
    "import pandas as pd"
   ]
  },
  {
   "cell_type": "code",
   "execution_count": 2,
   "id": "65861711",
   "metadata": {},
   "outputs": [],
   "source": [
    "url = \"http://quotes.toscrape.com/page/1/\""
   ]
  },
  {
   "cell_type": "code",
   "execution_count": 3,
   "id": "5940df69",
   "metadata": {},
   "outputs": [],
   "source": [
    "response = requests.get(url)"
   ]
  },
  {
   "cell_type": "code",
   "execution_count": 4,
   "id": "2c2c422e",
   "metadata": {},
   "outputs": [],
   "source": [
    "soup = BeautifulSoup(response.text, 'lxml')"
   ]
  },
  {
   "cell_type": "code",
   "execution_count": 5,
   "id": "5382885e",
   "metadata": {},
   "outputs": [],
   "source": [
    "quotes = soup.find_all('span', class_='text')"
   ]
  },
  {
   "cell_type": "code",
   "execution_count": 6,
   "id": "ecd64b8a",
   "metadata": {},
   "outputs": [
    {
     "name": "stdout",
     "output_type": "stream",
     "text": [
      "“The world as we have created it is a process of our thinking. It cannot be changed without changing our thinking.”\n",
      "“It is our choices, Harry, that show what we truly are, far more than our abilities.”\n",
      "“There are only two ways to live your life. One is as though nothing is a miracle. The other is as though everything is a miracle.”\n",
      "“The person, be it gentleman or lady, who has not pleasure in a good novel, must be intolerably stupid.”\n",
      "“Imperfection is beauty, madness is genius and it's better to be absolutely ridiculous than absolutely boring.”\n",
      "“Try not to become a man of success. Rather become a man of value.”\n",
      "“It is better to be hated for what you are than to be loved for what you are not.”\n",
      "“I have not failed. I've just found 10,000 ways that won't work.”\n",
      "“A woman is like a tea bag; you never know how strong it is until it's in hot water.”\n",
      "“A day without sunshine is like, you know, night.”\n"
     ]
    }
   ],
   "source": [
    "for quote in quotes:\n",
    "    print(quote.text)"
   ]
  },
  {
   "cell_type": "code",
   "execution_count": 7,
   "id": "71128ff8",
   "metadata": {},
   "outputs": [],
   "source": [
    "authors = soup.find_all('small', class_='author')"
   ]
  },
  {
   "cell_type": "code",
   "execution_count": 8,
   "id": "994aa741",
   "metadata": {},
   "outputs": [
    {
     "name": "stdout",
     "output_type": "stream",
     "text": [
      "“The world as we have created it is a process of our thinking. It cannot be changed without changing our thinking.”\n",
      "--Albert Einstein\n",
      "“It is our choices, Harry, that show what we truly are, far more than our abilities.”\n",
      "--J.K. Rowling\n",
      "“There are only two ways to live your life. One is as though nothing is a miracle. The other is as though everything is a miracle.”\n",
      "--Albert Einstein\n",
      "“The person, be it gentleman or lady, who has not pleasure in a good novel, must be intolerably stupid.”\n",
      "--Jane Austen\n",
      "“Imperfection is beauty, madness is genius and it's better to be absolutely ridiculous than absolutely boring.”\n",
      "--Marilyn Monroe\n",
      "“Try not to become a man of success. Rather become a man of value.”\n",
      "--Albert Einstein\n",
      "“It is better to be hated for what you are than to be loved for what you are not.”\n",
      "--André Gide\n",
      "“I have not failed. I've just found 10,000 ways that won't work.”\n",
      "--Thomas A. Edison\n",
      "“A woman is like a tea bag; you never know how strong it is until it's in hot water.”\n",
      "--Eleanor Roosevelt\n",
      "“A day without sunshine is like, you know, night.”\n",
      "--Steve Martin\n"
     ]
    }
   ],
   "source": [
    "for auth in range(0, len(quotes)):\n",
    "    print(quotes[auth].text)\n",
    "    print('--' + authors[auth].text)"
   ]
  },
  {
   "cell_type": "code",
   "execution_count": 9,
   "id": "53a89ddb",
   "metadata": {},
   "outputs": [],
   "source": [
    "tags = soup.find_all('div', class_='tags')"
   ]
  },
  {
   "cell_type": "code",
   "execution_count": 10,
   "id": "3b3c18df",
   "metadata": {},
   "outputs": [
    {
     "name": "stdout",
     "output_type": "stream",
     "text": [
      "humor\n",
      "obvious\n",
      "simile\n",
      "tag\n"
     ]
    }
   ],
   "source": [
    "tags_quote = tags[auth].find_all('a', class_='tag')\n",
    "for quote_tag in tags_quote:\n",
    "    print(quote_tag.text)\n",
    "print('tag')"
   ]
  },
  {
   "cell_type": "code",
   "execution_count": 11,
   "id": "ae19766e",
   "metadata": {},
   "outputs": [
    {
     "name": "stdout",
     "output_type": "stream",
     "text": [
      "“The world as we have created it is a process of our thinking. It cannot be changed without changing our thinking.”\n",
      "“It is our choices, Harry, that show what we truly are, far more than our abilities.”\n",
      "“There are only two ways to live your life. One is as though nothing is a miracle. The other is as though everything is a miracle.”\n",
      "“The person, be it gentleman or lady, who has not pleasure in a good novel, must be intolerably stupid.”\n",
      "“Imperfection is beauty, madness is genius and it's better to be absolutely ridiculous than absolutely boring.”\n",
      "“Try not to become a man of success. Rather become a man of value.”\n",
      "“It is better to be hated for what you are than to be loved for what you are not.”\n",
      "“I have not failed. I've just found 10,000 ways that won't work.”\n",
      "“A woman is like a tea bag; you never know how strong it is until it's in hot water.”\n",
      "“A day without sunshine is like, you know, night.”\n",
      "“The world as we have created it is a process of our thinking. It cannot be changed without changing our thinking.”\n",
      "--Albert Einstein\n",
      "“It is our choices, Harry, that show what we truly are, far more than our abilities.”\n",
      "--J.K. Rowling\n",
      "“There are only two ways to live your life. One is as though nothing is a miracle. The other is as though everything is a miracle.”\n",
      "--Albert Einstein\n",
      "“The person, be it gentleman or lady, who has not pleasure in a good novel, must be intolerably stupid.”\n",
      "--Jane Austen\n",
      "“Imperfection is beauty, madness is genius and it's better to be absolutely ridiculous than absolutely boring.”\n",
      "--Marilyn Monroe\n",
      "“Try not to become a man of success. Rather become a man of value.”\n",
      "--Albert Einstein\n",
      "“It is better to be hated for what you are than to be loved for what you are not.”\n",
      "--André Gide\n",
      "“I have not failed. I've just found 10,000 ways that won't work.”\n",
      "--Thomas A. Edison\n",
      "“A woman is like a tea bag; you never know how strong it is until it's in hot water.”\n",
      "--Eleanor Roosevelt\n",
      "“A day without sunshine is like, you know, night.”\n",
      "--Steve Martin\n",
      "humor\n",
      "obvious\n",
      "simile\n",
      " \n"
     ]
    }
   ],
   "source": [
    "for quote in quotes:\n",
    "    print(quote.text)\n",
    "for auth in range(0, len(quotes)):\n",
    "    print(quotes[auth].text)\n",
    "    print('--' + authors[auth].text)\n",
    "    tags_quote = tags[auth].find_all('a', class_='tag')\n",
    "for quote_tag in tags_quote:\n",
    "    print(quote_tag.text)\n",
    "print(' ')"
   ]
  },
  {
   "cell_type": "code",
   "execution_count": 12,
   "id": "e030dcdc",
   "metadata": {},
   "outputs": [],
   "source": [
    "quotes = soup.find_all('span', class_='text')\n",
    "authors = soup.find_all('small', class_='author')\n",
    "tags = soup.find_all('div', class_='tags')"
   ]
  },
  {
   "cell_type": "code",
   "execution_count": 110,
   "id": "94186de7",
   "metadata": {},
   "outputs": [
    {
     "name": "stdout",
     "output_type": "stream",
     "text": [
      " \n",
      "“The world as we have created it is a process of our thinking. It cannot be changed without changing our thinking.”\n",
      "--Albert Einstein\n",
      " \n",
      "change\n",
      "deep-thoughts\n",
      "thinking\n",
      "world\n",
      " \n",
      "“It is our choices, Harry, that show what we truly are, far more than our abilities.”\n",
      "--J.K. Rowling\n",
      " \n",
      "abilities\n",
      "choices\n",
      " \n",
      "“There are only two ways to live your life. One is as though nothing is a miracle. The other is as though everything is a miracle.”\n",
      "--Albert Einstein\n",
      " \n",
      "inspirational\n",
      "life\n",
      "live\n",
      "miracle\n",
      "miracles\n",
      " \n",
      "“The person, be it gentleman or lady, who has not pleasure in a good novel, must be intolerably stupid.”\n",
      "--Jane Austen\n",
      " \n",
      "aliteracy\n",
      "books\n",
      "classic\n",
      "humor\n",
      " \n",
      "“Imperfection is beauty, madness is genius and it's better to be absolutely ridiculous than absolutely boring.”\n",
      "--Marilyn Monroe\n",
      " \n",
      "be-yourself\n",
      "inspirational\n",
      " \n",
      "“Try not to become a man of success. Rather become a man of value.”\n",
      "--Albert Einstein\n",
      " \n",
      "adulthood\n",
      "success\n",
      "value\n",
      " \n",
      "“It is better to be hated for what you are than to be loved for what you are not.”\n",
      "--André Gide\n",
      " \n",
      "life\n",
      "love\n",
      " \n",
      "“I have not failed. I've just found 10,000 ways that won't work.”\n",
      "--Thomas A. Edison\n",
      " \n",
      "edison\n",
      "failure\n",
      "inspirational\n",
      "paraphrased\n",
      " \n",
      "“A woman is like a tea bag; you never know how strong it is until it's in hot water.”\n",
      "--Eleanor Roosevelt\n",
      " \n",
      "misattributed-eleanor-roosevelt\n",
      " \n",
      "“A day without sunshine is like, you know, night.”\n",
      "--Steve Martin\n",
      " \n",
      "humor\n",
      "obvious\n",
      "simile\n"
     ]
    }
   ],
   "source": [
    "Quotes = []\n",
    "\n",
    "\n",
    "for pages in range(1,2):\n",
    "    url =f\"http://quotes.toscrape.com/page/{pages}/\"\n",
    "    response = requests.get(url)\n",
    "    soup = BeautifulSoup(response.text, 'lxml')\n",
    "    quotes = soup.find_all('span', class_='text')\n",
    "\n",
    "for auth in range(0, len(quotes)):\n",
    "    print(' ')\n",
    "    print(quotes[auth].text)\n",
    "    print('--' + authors[auth].text)\n",
    "    print(' ')\n",
    "    tags_quote = tags[auth].find_all('a', class_='tag')\n",
    "    for tag_quote in tags_quote:\n",
    "        print(tag_quote.text)\n",
    "    Quotes.append([quotes[auth].text,authors[auth].text,tag_quote.text])"
   ]
  },
  {
   "cell_type": "code",
   "execution_count": 113,
   "id": "b6ed4fe7",
   "metadata": {},
   "outputs": [],
   "source": [
    "#df = pd.DataFrame(Quotes,columns = ['quotes[auth].text','authors[auth].text','tag_quote.text'])\n",
    "df = pd.DataFrame(Quotes,columns = ['quotes','authors','tags'])"
   ]
  },
  {
   "cell_type": "code",
   "execution_count": 114,
   "id": "9f126935",
   "metadata": {},
   "outputs": [
    {
     "data": {
      "text/html": [
       "<div>\n",
       "<style scoped>\n",
       "    .dataframe tbody tr th:only-of-type {\n",
       "        vertical-align: middle;\n",
       "    }\n",
       "\n",
       "    .dataframe tbody tr th {\n",
       "        vertical-align: top;\n",
       "    }\n",
       "\n",
       "    .dataframe thead th {\n",
       "        text-align: right;\n",
       "    }\n",
       "</style>\n",
       "<table border=\"1\" class=\"dataframe\">\n",
       "  <thead>\n",
       "    <tr style=\"text-align: right;\">\n",
       "      <th></th>\n",
       "      <th>quotes</th>\n",
       "      <th>authors</th>\n",
       "      <th>tags</th>\n",
       "    </tr>\n",
       "  </thead>\n",
       "  <tbody>\n",
       "    <tr>\n",
       "      <th>0</th>\n",
       "      <td>“The world as we have created it is a process ...</td>\n",
       "      <td>Albert Einstein</td>\n",
       "      <td>world</td>\n",
       "    </tr>\n",
       "    <tr>\n",
       "      <th>1</th>\n",
       "      <td>“It is our choices, Harry, that show what we t...</td>\n",
       "      <td>J.K. Rowling</td>\n",
       "      <td>choices</td>\n",
       "    </tr>\n",
       "    <tr>\n",
       "      <th>2</th>\n",
       "      <td>“There are only two ways to live your life. On...</td>\n",
       "      <td>Albert Einstein</td>\n",
       "      <td>miracles</td>\n",
       "    </tr>\n",
       "    <tr>\n",
       "      <th>3</th>\n",
       "      <td>“The person, be it gentleman or lady, who has ...</td>\n",
       "      <td>Jane Austen</td>\n",
       "      <td>humor</td>\n",
       "    </tr>\n",
       "    <tr>\n",
       "      <th>4</th>\n",
       "      <td>“Imperfection is beauty, madness is genius and...</td>\n",
       "      <td>Marilyn Monroe</td>\n",
       "      <td>inspirational</td>\n",
       "    </tr>\n",
       "    <tr>\n",
       "      <th>5</th>\n",
       "      <td>“Try not to become a man of success. Rather be...</td>\n",
       "      <td>Albert Einstein</td>\n",
       "      <td>value</td>\n",
       "    </tr>\n",
       "    <tr>\n",
       "      <th>6</th>\n",
       "      <td>“It is better to be hated for what you are tha...</td>\n",
       "      <td>André Gide</td>\n",
       "      <td>love</td>\n",
       "    </tr>\n",
       "    <tr>\n",
       "      <th>7</th>\n",
       "      <td>“I have not failed. I've just found 10,000 way...</td>\n",
       "      <td>Thomas A. Edison</td>\n",
       "      <td>paraphrased</td>\n",
       "    </tr>\n",
       "    <tr>\n",
       "      <th>8</th>\n",
       "      <td>“A woman is like a tea bag; you never know how...</td>\n",
       "      <td>Eleanor Roosevelt</td>\n",
       "      <td>misattributed-eleanor-roosevelt</td>\n",
       "    </tr>\n",
       "    <tr>\n",
       "      <th>9</th>\n",
       "      <td>“A day without sunshine is like, you know, nig...</td>\n",
       "      <td>Steve Martin</td>\n",
       "      <td>simile</td>\n",
       "    </tr>\n",
       "  </tbody>\n",
       "</table>\n",
       "</div>"
      ],
      "text/plain": [
       "                                              quotes            authors  \\\n",
       "0  “The world as we have created it is a process ...    Albert Einstein   \n",
       "1  “It is our choices, Harry, that show what we t...       J.K. Rowling   \n",
       "2  “There are only two ways to live your life. On...    Albert Einstein   \n",
       "3  “The person, be it gentleman or lady, who has ...        Jane Austen   \n",
       "4  “Imperfection is beauty, madness is genius and...     Marilyn Monroe   \n",
       "5  “Try not to become a man of success. Rather be...    Albert Einstein   \n",
       "6  “It is better to be hated for what you are tha...         André Gide   \n",
       "7  “I have not failed. I've just found 10,000 way...   Thomas A. Edison   \n",
       "8  “A woman is like a tea bag; you never know how...  Eleanor Roosevelt   \n",
       "9  “A day without sunshine is like, you know, nig...       Steve Martin   \n",
       "\n",
       "                              tags  \n",
       "0                            world  \n",
       "1                          choices  \n",
       "2                         miracles  \n",
       "3                            humor  \n",
       "4                    inspirational  \n",
       "5                            value  \n",
       "6                             love  \n",
       "7                      paraphrased  \n",
       "8  misattributed-eleanor-roosevelt  \n",
       "9                           simile  "
      ]
     },
     "execution_count": 114,
     "metadata": {},
     "output_type": "execute_result"
    }
   ],
   "source": [
    "df"
   ]
  },
  {
   "cell_type": "code",
   "execution_count": 115,
   "id": "5a727cb4",
   "metadata": {},
   "outputs": [],
   "source": [
    "df.to_csv('Assignment_2.csv')"
   ]
  },
  {
   "cell_type": "code",
   "execution_count": null,
   "id": "1957b6c3",
   "metadata": {},
   "outputs": [],
   "source": []
  },
  {
   "cell_type": "code",
   "execution_count": null,
   "id": "d4366a62",
   "metadata": {},
   "outputs": [],
   "source": []
  }
 ],
 "metadata": {
  "kernelspec": {
   "display_name": "Python 3 (ipykernel)",
   "language": "python",
   "name": "python3"
  },
  "language_info": {
   "codemirror_mode": {
    "name": "ipython",
    "version": 3
   },
   "file_extension": ".py",
   "mimetype": "text/x-python",
   "name": "python",
   "nbconvert_exporter": "python",
   "pygments_lexer": "ipython3",
   "version": "3.9.13"
  }
 },
 "nbformat": 4,
 "nbformat_minor": 5
}
